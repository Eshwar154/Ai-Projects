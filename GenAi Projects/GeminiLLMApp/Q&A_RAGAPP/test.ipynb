{
 "cells": [
  {
   "cell_type": "code",
   "execution_count": 1,
   "metadata": {},
   "outputs": [
    {
     "name": "stdout",
     "output_type": "stream",
     "text": [
      "['__builtins__', '__cached__', '__doc__', '__file__', '__loader__', '__name__', '__package__', '__path__', '__spec__', '__version__', 'common', 'groqit', 'groqmodel', 'justgroqit', 'load_state', 'version']\n"
     ]
    }
   ],
   "source": [
    "import groqflow\n",
    "print(dir(groqflow))\n"
   ]
  },
  {
   "cell_type": "code",
   "execution_count": 2,
   "metadata": {},
   "outputs": [
    {
     "name": "stdout",
     "output_type": "stream",
     "text": [
      "Help on package groqflow:\n",
      "\n",
      "NAME\n",
      "    groqflow\n",
      "\n",
      "PACKAGE CONTENTS\n",
      "    common (package)\n",
      "    groqmodel (package)\n",
      "    justgroqit (package)\n",
      "    version\n",
      "\n",
      "VERSION\n",
      "    4.3.1\n",
      "\n",
      "FILE\n",
      "    d:\\anaconda\\envs\\myenv\\lib\\site-packages\\groqflow\\__init__.py\n",
      "\n",
      "\n"
     ]
    }
   ],
   "source": [
    "import groqflow\n",
    "help(groqflow)\n"
   ]
  },
  {
   "cell_type": "code",
   "execution_count": 3,
   "metadata": {},
   "outputs": [
    {
     "name": "stdout",
     "output_type": "stream",
     "text": [
      "Help on package groqflow.common in groqflow:\n",
      "\n",
      "NAME\n",
      "    groqflow.common\n",
      "\n",
      "PACKAGE CONTENTS\n",
      "    build\n",
      "    onnx_helpers\n",
      "    sdk_helpers\n",
      "\n",
      "FILE\n",
      "    d:\\anaconda\\envs\\myenv\\lib\\site-packages\\groqflow\\common\\__init__.py\n",
      "\n",
      "\n"
     ]
    },
    {
     "ename": "",
     "evalue": "",
     "output_type": "error",
     "traceback": [
      "\u001b[1;31mThe Kernel crashed while executing code in the current cell or a previous cell. \n",
      "\u001b[1;31mPlease review the code in the cell(s) to identify a possible cause of the failure. \n",
      "\u001b[1;31mClick <a href='https://aka.ms/vscodeJupyterKernelCrash'>here</a> for more info. \n",
      "\u001b[1;31mView Jupyter <a href='command:jupyter.viewOutput'>log</a> for further details."
     ]
    }
   ],
   "source": [
    "from groqflow import common, groqmodel, justgroqit\n",
    "help(common)  # Replace with groqmodel or justgroqit to explore further.\n"
   ]
  }
 ],
 "metadata": {
  "kernelspec": {
   "display_name": "myenv",
   "language": "python",
   "name": "python3"
  },
  "language_info": {
   "codemirror_mode": {
    "name": "ipython",
    "version": 3
   },
   "file_extension": ".py",
   "mimetype": "text/x-python",
   "name": "python",
   "nbconvert_exporter": "python",
   "pygments_lexer": "ipython3",
   "version": "3.10.16"
  }
 },
 "nbformat": 4,
 "nbformat_minor": 2
}
